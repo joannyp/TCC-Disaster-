{
  "nbformat": 4,
  "nbformat_minor": 0,
  "metadata": {
    "colab": {
      "provenance": [],
      "mount_file_id": "11IvLtipJrjB5VaAhHrjtajuIRrBOqchi",
      "authorship_tag": "ABX9TyMUMHDfDmPpzAK0T1kUphpK",
      "include_colab_link": true
    },
    "kernelspec": {
      "name": "python3",
      "display_name": "Python 3"
    },
    "language_info": {
      "name": "python"
    }
  },
  "cells": [
    {
      "cell_type": "markdown",
      "metadata": {
        "id": "view-in-github",
        "colab_type": "text"
      },
      "source": [
        "<a href=\"https://colab.research.google.com/github/joannyp/TCC-Disaster-/blob/main/Disaster.ipynb\" target=\"_parent\"><img src=\"https://colab.research.google.com/assets/colab-badge.svg\" alt=\"Open In Colab\"/></a>"
      ]
    },
    {
      "cell_type": "code",
      "execution_count": null,
      "metadata": {
        "colab": {
          "base_uri": "https://localhost:8080/"
        },
        "id": "xpECiePQPwJI",
        "outputId": "f5b041c7-9cb5-413e-ee60-18a1d463886b"
      },
      "outputs": [
        {
          "output_type": "stream",
          "name": "stdout",
          "text": [
            "Drive already mounted at /content/drive; to attempt to forcibly remount, call drive.mount(\"/content/drive\", force_remount=True).\n"
          ]
        }
      ],
      "source": [
        "from google.colab import drive\n",
        "drive.mount('/content/drive')"
      ]
    },
    {
      "cell_type": "code",
      "source": [
        "!pip install emoji"
      ],
      "metadata": {
        "id": "AQc4Ro5RP1Hx",
        "colab": {
          "base_uri": "https://localhost:8080/"
        },
        "outputId": "aa093be2-5fba-40e0-e644-1a80c216ca65"
      },
      "execution_count": null,
      "outputs": [
        {
          "output_type": "stream",
          "name": "stdout",
          "text": [
            "Looking in indexes: https://pypi.org/simple, https://us-python.pkg.dev/colab-wheels/public/simple/\n",
            "Collecting emoji\n",
            "  Downloading emoji-2.1.0.tar.gz (216 kB)\n",
            "\u001b[K     |████████████████████████████████| 216 kB 4.3 MB/s \n",
            "\u001b[?25hBuilding wheels for collected packages: emoji\n",
            "  Building wheel for emoji (setup.py) ... \u001b[?25l\u001b[?25hdone\n",
            "  Created wheel for emoji: filename=emoji-2.1.0-py3-none-any.whl size=212392 sha256=9b706b14504546e17444af64d35e6d9f437e4e4714802c3af9af0adbec714fe2\n",
            "  Stored in directory: /root/.cache/pip/wheels/77/75/99/51c2a119f4cfd3af7b49cc57e4f737bed7e40b348a85d82804\n",
            "Successfully built emoji\n",
            "Installing collected packages: emoji\n",
            "Successfully installed emoji-2.1.0\n"
          ]
        }
      ]
    },
    {
      "cell_type": "code",
      "source": [
        "import os\n",
        "import pandas as pd\n",
        "import re\n",
        "import emoji\n",
        "import string\n",
        "import nltk\n",
        "from nltk.tokenize import TweetTokenizer\n",
        "from nltk.corpus import stopwords\n",
        "import matplotlib.pyplot as plt\n",
        "from collections import Counter"
      ],
      "metadata": {
        "id": "3HJKHvWPP8hw"
      },
      "execution_count": null,
      "outputs": []
    },
    {
      "cell_type": "markdown",
      "source": [
        "# 1 Carregando os dados"
      ],
      "metadata": {
        "id": "0K9_09RtJGV3"
      }
    },
    {
      "cell_type": "code",
      "source": [
        "path = '/content/drive/MyDrive/TCC_Disaster'\n",
        "os.chdir(path)"
      ],
      "metadata": {
        "id": "oEYDuNT7Qi6B"
      },
      "execution_count": null,
      "outputs": []
    },
    {
      "cell_type": "code",
      "source": [
        "df = pd.read_csv('DATASET.csv')\n",
        "df"
      ],
      "metadata": {
        "id": "WpXLDIBIQmW4",
        "colab": {
          "base_uri": "https://localhost:8080/",
          "height": 423
        },
        "outputId": "0af338bb-1e9e-4f7d-99d1-4da64bbd58b6"
      },
      "execution_count": null,
      "outputs": [
        {
          "output_type": "execute_result",
          "data": {
            "text/plain": [
              "            date        id_str        user_name  \\\n",
              "0     2018-05-06  2.379071e+09       tiedyehobo   \n",
              "1     2018-05-06  2.929292e+07    queeraspoetry   \n",
              "2     2018-05-06  8.149151e+17  Hazards_Network   \n",
              "3     2018-05-06  4.142280e+08   NaomiCooper808   \n",
              "4     2018-05-06  2.011251e+07        vioart527   \n",
              "...          ...           ...              ...   \n",
              "6018  2018-04-29  1.446640e+07     MauiBenjamin   \n",
              "6019  2018-04-29  3.048545e+09     googuns_lulz   \n",
              "6020  2018-04-29  2.927180e+08       barkingbbq   \n",
              "6021  2018-04-29  8.743629e+17     lifted_karma   \n",
              "6022  2018-04-29  2.337400e+09   KauCoffeeMill1   \n",
              "\n",
              "                                                   text      time   latitude  \\\n",
              "0     majic sands beach kona hawaiiawesome tunes car...  20:41:33  19.594333   \n",
              "1                good 🤙 🌋 center spiritual living hawai  20:33:41  19.560340   \n",
              "2     monday january an earthquake magnitude shook k...  20:30:04  19.078167   \n",
              "3                vacay ladat waimea hawaii county hawai  20:09:43  20.020278   \n",
              "4                          last sunset hawaii next time  19:46:08  19.650000   \n",
              "...                                                 ...       ...        ...   \n",
              "6018                       lahaina sunday lahaina hawai  21:43:25  20.886100   \n",
              "6019       becbefbfdaadeaaaebadbedbbeccdfcdcfffecbbecdc  21:31:00  19.277470   \n",
              "6020  for last day brunch favorite place maui vacati...  21:27:53  20.944502   \n",
              "6021  i absolutely love switch blaze vape battery th...  21:27:01  20.906560   \n",
              "6022  happening ever onolicious recipes submitted co...  21:25:12  19.238094   \n",
              "\n",
              "       longitude  \n",
              "0    -155.971728  \n",
              "1    -154.986600  \n",
              "2    -155.187667  \n",
              "3    -155.667778  \n",
              "4    -155.994000  \n",
              "...          ...  \n",
              "6018 -156.675000  \n",
              "6019 -153.229383  \n",
              "6020 -156.691695  \n",
              "6021 -156.243140  \n",
              "6022 -155.478760  \n",
              "\n",
              "[6023 rows x 7 columns]"
            ],
            "text/html": [
              "\n",
              "  <div id=\"df-14a0a778-29cb-47aa-9929-95edb566f9d1\">\n",
              "    <div class=\"colab-df-container\">\n",
              "      <div>\n",
              "<style scoped>\n",
              "    .dataframe tbody tr th:only-of-type {\n",
              "        vertical-align: middle;\n",
              "    }\n",
              "\n",
              "    .dataframe tbody tr th {\n",
              "        vertical-align: top;\n",
              "    }\n",
              "\n",
              "    .dataframe thead th {\n",
              "        text-align: right;\n",
              "    }\n",
              "</style>\n",
              "<table border=\"1\" class=\"dataframe\">\n",
              "  <thead>\n",
              "    <tr style=\"text-align: right;\">\n",
              "      <th></th>\n",
              "      <th>date</th>\n",
              "      <th>id_str</th>\n",
              "      <th>user_name</th>\n",
              "      <th>text</th>\n",
              "      <th>time</th>\n",
              "      <th>latitude</th>\n",
              "      <th>longitude</th>\n",
              "    </tr>\n",
              "  </thead>\n",
              "  <tbody>\n",
              "    <tr>\n",
              "      <th>0</th>\n",
              "      <td>2018-05-06</td>\n",
              "      <td>2.379071e+09</td>\n",
              "      <td>tiedyehobo</td>\n",
              "      <td>majic sands beach kona hawaiiawesome tunes car...</td>\n",
              "      <td>20:41:33</td>\n",
              "      <td>19.594333</td>\n",
              "      <td>-155.971728</td>\n",
              "    </tr>\n",
              "    <tr>\n",
              "      <th>1</th>\n",
              "      <td>2018-05-06</td>\n",
              "      <td>2.929292e+07</td>\n",
              "      <td>queeraspoetry</td>\n",
              "      <td>good 🤙 🌋 center spiritual living hawai</td>\n",
              "      <td>20:33:41</td>\n",
              "      <td>19.560340</td>\n",
              "      <td>-154.986600</td>\n",
              "    </tr>\n",
              "    <tr>\n",
              "      <th>2</th>\n",
              "      <td>2018-05-06</td>\n",
              "      <td>8.149151e+17</td>\n",
              "      <td>Hazards_Network</td>\n",
              "      <td>monday january an earthquake magnitude shook k...</td>\n",
              "      <td>20:30:04</td>\n",
              "      <td>19.078167</td>\n",
              "      <td>-155.187667</td>\n",
              "    </tr>\n",
              "    <tr>\n",
              "      <th>3</th>\n",
              "      <td>2018-05-06</td>\n",
              "      <td>4.142280e+08</td>\n",
              "      <td>NaomiCooper808</td>\n",
              "      <td>vacay ladat waimea hawaii county hawai</td>\n",
              "      <td>20:09:43</td>\n",
              "      <td>20.020278</td>\n",
              "      <td>-155.667778</td>\n",
              "    </tr>\n",
              "    <tr>\n",
              "      <th>4</th>\n",
              "      <td>2018-05-06</td>\n",
              "      <td>2.011251e+07</td>\n",
              "      <td>vioart527</td>\n",
              "      <td>last sunset hawaii next time</td>\n",
              "      <td>19:46:08</td>\n",
              "      <td>19.650000</td>\n",
              "      <td>-155.994000</td>\n",
              "    </tr>\n",
              "    <tr>\n",
              "      <th>...</th>\n",
              "      <td>...</td>\n",
              "      <td>...</td>\n",
              "      <td>...</td>\n",
              "      <td>...</td>\n",
              "      <td>...</td>\n",
              "      <td>...</td>\n",
              "      <td>...</td>\n",
              "    </tr>\n",
              "    <tr>\n",
              "      <th>6018</th>\n",
              "      <td>2018-04-29</td>\n",
              "      <td>1.446640e+07</td>\n",
              "      <td>MauiBenjamin</td>\n",
              "      <td>lahaina sunday lahaina hawai</td>\n",
              "      <td>21:43:25</td>\n",
              "      <td>20.886100</td>\n",
              "      <td>-156.675000</td>\n",
              "    </tr>\n",
              "    <tr>\n",
              "      <th>6019</th>\n",
              "      <td>2018-04-29</td>\n",
              "      <td>3.048545e+09</td>\n",
              "      <td>googuns_lulz</td>\n",
              "      <td>becbefbfdaadeaaaebadbedbbeccdfcdcfffecbbecdc</td>\n",
              "      <td>21:31:00</td>\n",
              "      <td>19.277470</td>\n",
              "      <td>-153.229383</td>\n",
              "    </tr>\n",
              "    <tr>\n",
              "      <th>6020</th>\n",
              "      <td>2018-04-29</td>\n",
              "      <td>2.927180e+08</td>\n",
              "      <td>barkingbbq</td>\n",
              "      <td>for last day brunch favorite place maui vacati...</td>\n",
              "      <td>21:27:53</td>\n",
              "      <td>20.944502</td>\n",
              "      <td>-156.691695</td>\n",
              "    </tr>\n",
              "    <tr>\n",
              "      <th>6021</th>\n",
              "      <td>2018-04-29</td>\n",
              "      <td>8.743629e+17</td>\n",
              "      <td>lifted_karma</td>\n",
              "      <td>i absolutely love switch blaze vape battery th...</td>\n",
              "      <td>21:27:01</td>\n",
              "      <td>20.906560</td>\n",
              "      <td>-156.243140</td>\n",
              "    </tr>\n",
              "    <tr>\n",
              "      <th>6022</th>\n",
              "      <td>2018-04-29</td>\n",
              "      <td>2.337400e+09</td>\n",
              "      <td>KauCoffeeMill1</td>\n",
              "      <td>happening ever onolicious recipes submitted co...</td>\n",
              "      <td>21:25:12</td>\n",
              "      <td>19.238094</td>\n",
              "      <td>-155.478760</td>\n",
              "    </tr>\n",
              "  </tbody>\n",
              "</table>\n",
              "<p>6023 rows × 7 columns</p>\n",
              "</div>\n",
              "      <button class=\"colab-df-convert\" onclick=\"convertToInteractive('df-14a0a778-29cb-47aa-9929-95edb566f9d1')\"\n",
              "              title=\"Convert this dataframe to an interactive table.\"\n",
              "              style=\"display:none;\">\n",
              "        \n",
              "  <svg xmlns=\"http://www.w3.org/2000/svg\" height=\"24px\"viewBox=\"0 0 24 24\"\n",
              "       width=\"24px\">\n",
              "    <path d=\"M0 0h24v24H0V0z\" fill=\"none\"/>\n",
              "    <path d=\"M18.56 5.44l.94 2.06.94-2.06 2.06-.94-2.06-.94-.94-2.06-.94 2.06-2.06.94zm-11 1L8.5 8.5l.94-2.06 2.06-.94-2.06-.94L8.5 2.5l-.94 2.06-2.06.94zm10 10l.94 2.06.94-2.06 2.06-.94-2.06-.94-.94-2.06-.94 2.06-2.06.94z\"/><path d=\"M17.41 7.96l-1.37-1.37c-.4-.4-.92-.59-1.43-.59-.52 0-1.04.2-1.43.59L10.3 9.45l-7.72 7.72c-.78.78-.78 2.05 0 2.83L4 21.41c.39.39.9.59 1.41.59.51 0 1.02-.2 1.41-.59l7.78-7.78 2.81-2.81c.8-.78.8-2.07 0-2.86zM5.41 20L4 18.59l7.72-7.72 1.47 1.35L5.41 20z\"/>\n",
              "  </svg>\n",
              "      </button>\n",
              "      \n",
              "  <style>\n",
              "    .colab-df-container {\n",
              "      display:flex;\n",
              "      flex-wrap:wrap;\n",
              "      gap: 12px;\n",
              "    }\n",
              "\n",
              "    .colab-df-convert {\n",
              "      background-color: #E8F0FE;\n",
              "      border: none;\n",
              "      border-radius: 50%;\n",
              "      cursor: pointer;\n",
              "      display: none;\n",
              "      fill: #1967D2;\n",
              "      height: 32px;\n",
              "      padding: 0 0 0 0;\n",
              "      width: 32px;\n",
              "    }\n",
              "\n",
              "    .colab-df-convert:hover {\n",
              "      background-color: #E2EBFA;\n",
              "      box-shadow: 0px 1px 2px rgba(60, 64, 67, 0.3), 0px 1px 3px 1px rgba(60, 64, 67, 0.15);\n",
              "      fill: #174EA6;\n",
              "    }\n",
              "\n",
              "    [theme=dark] .colab-df-convert {\n",
              "      background-color: #3B4455;\n",
              "      fill: #D2E3FC;\n",
              "    }\n",
              "\n",
              "    [theme=dark] .colab-df-convert:hover {\n",
              "      background-color: #434B5C;\n",
              "      box-shadow: 0px 1px 3px 1px rgba(0, 0, 0, 0.15);\n",
              "      filter: drop-shadow(0px 1px 2px rgba(0, 0, 0, 0.3));\n",
              "      fill: #FFFFFF;\n",
              "    }\n",
              "  </style>\n",
              "\n",
              "      <script>\n",
              "        const buttonEl =\n",
              "          document.querySelector('#df-14a0a778-29cb-47aa-9929-95edb566f9d1 button.colab-df-convert');\n",
              "        buttonEl.style.display =\n",
              "          google.colab.kernel.accessAllowed ? 'block' : 'none';\n",
              "\n",
              "        async function convertToInteractive(key) {\n",
              "          const element = document.querySelector('#df-14a0a778-29cb-47aa-9929-95edb566f9d1');\n",
              "          const dataTable =\n",
              "            await google.colab.kernel.invokeFunction('convertToInteractive',\n",
              "                                                     [key], {});\n",
              "          if (!dataTable) return;\n",
              "\n",
              "          const docLinkHtml = 'Like what you see? Visit the ' +\n",
              "            '<a target=\"_blank\" href=https://colab.research.google.com/notebooks/data_table.ipynb>data table notebook</a>'\n",
              "            + ' to learn more about interactive tables.';\n",
              "          element.innerHTML = '';\n",
              "          dataTable['output_type'] = 'display_data';\n",
              "          await google.colab.output.renderOutput(dataTable, element);\n",
              "          const docLink = document.createElement('div');\n",
              "          docLink.innerHTML = docLinkHtml;\n",
              "          element.appendChild(docLink);\n",
              "        }\n",
              "      </script>\n",
              "    </div>\n",
              "  </div>\n",
              "  "
            ]
          },
          "metadata": {},
          "execution_count": 5
        }
      ]
    },
    {
      "cell_type": "markdown",
      "source": [
        "# 2 Limpeza dos dados"
      ],
      "metadata": {
        "id": "1AaXMmWRI7w4"
      }
    },
    {
      "cell_type": "code",
      "source": [
        "def remove_numbers(text):\n",
        "  return re.sub(r'\\d+', '', text)"
      ],
      "metadata": {
        "id": "5Q989JIKIZbR"
      },
      "execution_count": null,
      "outputs": []
    },
    {
      "cell_type": "code",
      "source": [
        "def remove_emojis(text):\n",
        "  return emoji.replace_emoji(text)"
      ],
      "metadata": {
        "id": "mTVZedBfIZmu"
      },
      "execution_count": null,
      "outputs": []
    },
    {
      "cell_type": "code",
      "source": [
        "def remove_dots(text):\n",
        "  return re.compile(f'[{re.escape(string.punctuation)}]').sub(' ', text)"
      ],
      "metadata": {
        "id": "A-h7bozkIerI"
      },
      "execution_count": null,
      "outputs": []
    },
    {
      "cell_type": "code",
      "source": [
        "nltk.download('stopwords')"
      ],
      "metadata": {
        "colab": {
          "base_uri": "https://localhost:8080/"
        },
        "id": "5ZzgHWywIex2",
        "outputId": "1d0e1b24-afa4-4df2-c464-2000dede4de4"
      },
      "execution_count": null,
      "outputs": [
        {
          "output_type": "stream",
          "name": "stderr",
          "text": [
            "[nltk_data] Downloading package stopwords to /root/nltk_data...\n",
            "[nltk_data]   Unzipping corpora/stopwords.zip.\n"
          ]
        },
        {
          "output_type": "execute_result",
          "data": {
            "text/plain": [
              "True"
            ]
          },
          "metadata": {},
          "execution_count": 9
        }
      ]
    },
    {
      "cell_type": "code",
      "source": [
        "def remove_stopwords(text):\n",
        "  stop_words = set(stopwords.words('english'))\n",
        "  make_tokenize = TweetTokenizer()\n",
        "  tokens = make_tokenize.tokenize( remove_dots( remove_numbers(remove_emojis(text) ) ))\n",
        "  return [w.lower() for w in tokens if not w in stop_words]"
      ],
      "metadata": {
        "id": "QbmM_KNbInEq"
      },
      "execution_count": null,
      "outputs": []
    },
    {
      "cell_type": "code",
      "source": [
        "df['text'][1]"
      ],
      "metadata": {
        "colab": {
          "base_uri": "https://localhost:8080/",
          "height": 36
        },
        "id": "xiF_jV4CInKu",
        "outputId": "2d55209f-21c6-4a8c-d946-ecb83a0ca433"
      },
      "execution_count": null,
      "outputs": [
        {
          "output_type": "execute_result",
          "data": {
            "text/plain": [
              "'good 🤙 🌋 center spiritual living hawai'"
            ],
            "application/vnd.google.colaboratory.intrinsic+json": {
              "type": "string"
            }
          },
          "metadata": {},
          "execution_count": 11
        }
      ]
    },
    {
      "cell_type": "code",
      "source": [
        "remove_stopwords(df['text'][1])"
      ],
      "metadata": {
        "colab": {
          "base_uri": "https://localhost:8080/"
        },
        "id": "NdgroktsInQp",
        "outputId": "016ca494-982e-472d-8f9e-2db80f74b84f"
      },
      "execution_count": null,
      "outputs": [
        {
          "output_type": "execute_result",
          "data": {
            "text/plain": [
              "['good', 'center', 'spiritual', 'living', 'hawai']"
            ]
          },
          "metadata": {},
          "execution_count": 12
        }
      ]
    },
    {
      "cell_type": "code",
      "source": [
        "for i in df.index:\n",
        "  newText = remove_stopwords(str(df['text'][i]))\n",
        "  df['text'][i] = newText"
      ],
      "metadata": {
        "colab": {
          "base_uri": "https://localhost:8080/"
        },
        "id": "c4ntXlz5IsTo",
        "outputId": "8b1449fe-2d3a-441c-d1c5-1c7b27eddc35"
      },
      "execution_count": null,
      "outputs": [
        {
          "output_type": "stream",
          "name": "stderr",
          "text": [
            "/usr/local/lib/python3.7/dist-packages/ipykernel_launcher.py:3: SettingWithCopyWarning: \n",
            "A value is trying to be set on a copy of a slice from a DataFrame\n",
            "\n",
            "See the caveats in the documentation: https://pandas.pydata.org/pandas-docs/stable/user_guide/indexing.html#returning-a-view-versus-a-copy\n",
            "  This is separate from the ipykernel package so we can avoid doing imports until\n"
          ]
        }
      ]
    },
    {
      "cell_type": "code",
      "source": [
        "df"
      ],
      "metadata": {
        "colab": {
          "base_uri": "https://localhost:8080/",
          "height": 423
        },
        "id": "XNNBNR7TIsbl",
        "outputId": "743a1fef-8d8c-4f99-e207-6b5d1abffb44"
      },
      "execution_count": null,
      "outputs": [
        {
          "output_type": "execute_result",
          "data": {
            "text/plain": [
              "            date        id_str        user_name  \\\n",
              "0     2018-05-06  2.379071e+09       tiedyehobo   \n",
              "1     2018-05-06  2.929292e+07    queeraspoetry   \n",
              "2     2018-05-06  8.149151e+17  Hazards_Network   \n",
              "3     2018-05-06  4.142280e+08   NaomiCooper808   \n",
              "4     2018-05-06  2.011251e+07        vioart527   \n",
              "...          ...           ...              ...   \n",
              "6018  2018-04-29  1.446640e+07     MauiBenjamin   \n",
              "6019  2018-04-29  3.048545e+09     googuns_lulz   \n",
              "6020  2018-04-29  2.927180e+08       barkingbbq   \n",
              "6021  2018-04-29  8.743629e+17     lifted_karma   \n",
              "6022  2018-04-29  2.337400e+09   KauCoffeeMill1   \n",
              "\n",
              "                                                   text      time   latitude  \\\n",
              "0     [majic, sands, beach, kona, hawaiiawesome, tun...  20:41:33  19.594333   \n",
              "1              [good, center, spiritual, living, hawai]  20:33:41  19.560340   \n",
              "2     [monday, january, earthquake, magnitude, shook...  20:30:04  19.078167   \n",
              "3         [vacay, ladat, waimea, hawaii, county, hawai]  20:09:43  20.020278   \n",
              "4                    [last, sunset, hawaii, next, time]  19:46:08  19.650000   \n",
              "...                                                 ...       ...        ...   \n",
              "6018                  [lahaina, sunday, lahaina, hawai]  21:43:25  20.886100   \n",
              "6019     [becbefbfdaadeaaaebadbedbbeccdfcdcfffecbbecdc]  21:31:00  19.277470   \n",
              "6020  [last, day, brunch, favorite, place, maui, vac...  21:27:53  20.944502   \n",
              "6021  [absolutely, love, switch, blaze, vape, batter...  21:27:01  20.906560   \n",
              "6022  [happening, ever, onolicious, recipes, submitt...  21:25:12  19.238094   \n",
              "\n",
              "       longitude  \n",
              "0    -155.971728  \n",
              "1    -154.986600  \n",
              "2    -155.187667  \n",
              "3    -155.667778  \n",
              "4    -155.994000  \n",
              "...          ...  \n",
              "6018 -156.675000  \n",
              "6019 -153.229383  \n",
              "6020 -156.691695  \n",
              "6021 -156.243140  \n",
              "6022 -155.478760  \n",
              "\n",
              "[6023 rows x 7 columns]"
            ],
            "text/html": [
              "\n",
              "  <div id=\"df-a7e7bc5e-6370-46bc-90ce-c5937505e6a7\">\n",
              "    <div class=\"colab-df-container\">\n",
              "      <div>\n",
              "<style scoped>\n",
              "    .dataframe tbody tr th:only-of-type {\n",
              "        vertical-align: middle;\n",
              "    }\n",
              "\n",
              "    .dataframe tbody tr th {\n",
              "        vertical-align: top;\n",
              "    }\n",
              "\n",
              "    .dataframe thead th {\n",
              "        text-align: right;\n",
              "    }\n",
              "</style>\n",
              "<table border=\"1\" class=\"dataframe\">\n",
              "  <thead>\n",
              "    <tr style=\"text-align: right;\">\n",
              "      <th></th>\n",
              "      <th>date</th>\n",
              "      <th>id_str</th>\n",
              "      <th>user_name</th>\n",
              "      <th>text</th>\n",
              "      <th>time</th>\n",
              "      <th>latitude</th>\n",
              "      <th>longitude</th>\n",
              "    </tr>\n",
              "  </thead>\n",
              "  <tbody>\n",
              "    <tr>\n",
              "      <th>0</th>\n",
              "      <td>2018-05-06</td>\n",
              "      <td>2.379071e+09</td>\n",
              "      <td>tiedyehobo</td>\n",
              "      <td>[majic, sands, beach, kona, hawaiiawesome, tun...</td>\n",
              "      <td>20:41:33</td>\n",
              "      <td>19.594333</td>\n",
              "      <td>-155.971728</td>\n",
              "    </tr>\n",
              "    <tr>\n",
              "      <th>1</th>\n",
              "      <td>2018-05-06</td>\n",
              "      <td>2.929292e+07</td>\n",
              "      <td>queeraspoetry</td>\n",
              "      <td>[good, center, spiritual, living, hawai]</td>\n",
              "      <td>20:33:41</td>\n",
              "      <td>19.560340</td>\n",
              "      <td>-154.986600</td>\n",
              "    </tr>\n",
              "    <tr>\n",
              "      <th>2</th>\n",
              "      <td>2018-05-06</td>\n",
              "      <td>8.149151e+17</td>\n",
              "      <td>Hazards_Network</td>\n",
              "      <td>[monday, january, earthquake, magnitude, shook...</td>\n",
              "      <td>20:30:04</td>\n",
              "      <td>19.078167</td>\n",
              "      <td>-155.187667</td>\n",
              "    </tr>\n",
              "    <tr>\n",
              "      <th>3</th>\n",
              "      <td>2018-05-06</td>\n",
              "      <td>4.142280e+08</td>\n",
              "      <td>NaomiCooper808</td>\n",
              "      <td>[vacay, ladat, waimea, hawaii, county, hawai]</td>\n",
              "      <td>20:09:43</td>\n",
              "      <td>20.020278</td>\n",
              "      <td>-155.667778</td>\n",
              "    </tr>\n",
              "    <tr>\n",
              "      <th>4</th>\n",
              "      <td>2018-05-06</td>\n",
              "      <td>2.011251e+07</td>\n",
              "      <td>vioart527</td>\n",
              "      <td>[last, sunset, hawaii, next, time]</td>\n",
              "      <td>19:46:08</td>\n",
              "      <td>19.650000</td>\n",
              "      <td>-155.994000</td>\n",
              "    </tr>\n",
              "    <tr>\n",
              "      <th>...</th>\n",
              "      <td>...</td>\n",
              "      <td>...</td>\n",
              "      <td>...</td>\n",
              "      <td>...</td>\n",
              "      <td>...</td>\n",
              "      <td>...</td>\n",
              "      <td>...</td>\n",
              "    </tr>\n",
              "    <tr>\n",
              "      <th>6018</th>\n",
              "      <td>2018-04-29</td>\n",
              "      <td>1.446640e+07</td>\n",
              "      <td>MauiBenjamin</td>\n",
              "      <td>[lahaina, sunday, lahaina, hawai]</td>\n",
              "      <td>21:43:25</td>\n",
              "      <td>20.886100</td>\n",
              "      <td>-156.675000</td>\n",
              "    </tr>\n",
              "    <tr>\n",
              "      <th>6019</th>\n",
              "      <td>2018-04-29</td>\n",
              "      <td>3.048545e+09</td>\n",
              "      <td>googuns_lulz</td>\n",
              "      <td>[becbefbfdaadeaaaebadbedbbeccdfcdcfffecbbecdc]</td>\n",
              "      <td>21:31:00</td>\n",
              "      <td>19.277470</td>\n",
              "      <td>-153.229383</td>\n",
              "    </tr>\n",
              "    <tr>\n",
              "      <th>6020</th>\n",
              "      <td>2018-04-29</td>\n",
              "      <td>2.927180e+08</td>\n",
              "      <td>barkingbbq</td>\n",
              "      <td>[last, day, brunch, favorite, place, maui, vac...</td>\n",
              "      <td>21:27:53</td>\n",
              "      <td>20.944502</td>\n",
              "      <td>-156.691695</td>\n",
              "    </tr>\n",
              "    <tr>\n",
              "      <th>6021</th>\n",
              "      <td>2018-04-29</td>\n",
              "      <td>8.743629e+17</td>\n",
              "      <td>lifted_karma</td>\n",
              "      <td>[absolutely, love, switch, blaze, vape, batter...</td>\n",
              "      <td>21:27:01</td>\n",
              "      <td>20.906560</td>\n",
              "      <td>-156.243140</td>\n",
              "    </tr>\n",
              "    <tr>\n",
              "      <th>6022</th>\n",
              "      <td>2018-04-29</td>\n",
              "      <td>2.337400e+09</td>\n",
              "      <td>KauCoffeeMill1</td>\n",
              "      <td>[happening, ever, onolicious, recipes, submitt...</td>\n",
              "      <td>21:25:12</td>\n",
              "      <td>19.238094</td>\n",
              "      <td>-155.478760</td>\n",
              "    </tr>\n",
              "  </tbody>\n",
              "</table>\n",
              "<p>6023 rows × 7 columns</p>\n",
              "</div>\n",
              "      <button class=\"colab-df-convert\" onclick=\"convertToInteractive('df-a7e7bc5e-6370-46bc-90ce-c5937505e6a7')\"\n",
              "              title=\"Convert this dataframe to an interactive table.\"\n",
              "              style=\"display:none;\">\n",
              "        \n",
              "  <svg xmlns=\"http://www.w3.org/2000/svg\" height=\"24px\"viewBox=\"0 0 24 24\"\n",
              "       width=\"24px\">\n",
              "    <path d=\"M0 0h24v24H0V0z\" fill=\"none\"/>\n",
              "    <path d=\"M18.56 5.44l.94 2.06.94-2.06 2.06-.94-2.06-.94-.94-2.06-.94 2.06-2.06.94zm-11 1L8.5 8.5l.94-2.06 2.06-.94-2.06-.94L8.5 2.5l-.94 2.06-2.06.94zm10 10l.94 2.06.94-2.06 2.06-.94-2.06-.94-.94-2.06-.94 2.06-2.06.94z\"/><path d=\"M17.41 7.96l-1.37-1.37c-.4-.4-.92-.59-1.43-.59-.52 0-1.04.2-1.43.59L10.3 9.45l-7.72 7.72c-.78.78-.78 2.05 0 2.83L4 21.41c.39.39.9.59 1.41.59.51 0 1.02-.2 1.41-.59l7.78-7.78 2.81-2.81c.8-.78.8-2.07 0-2.86zM5.41 20L4 18.59l7.72-7.72 1.47 1.35L5.41 20z\"/>\n",
              "  </svg>\n",
              "      </button>\n",
              "      \n",
              "  <style>\n",
              "    .colab-df-container {\n",
              "      display:flex;\n",
              "      flex-wrap:wrap;\n",
              "      gap: 12px;\n",
              "    }\n",
              "\n",
              "    .colab-df-convert {\n",
              "      background-color: #E8F0FE;\n",
              "      border: none;\n",
              "      border-radius: 50%;\n",
              "      cursor: pointer;\n",
              "      display: none;\n",
              "      fill: #1967D2;\n",
              "      height: 32px;\n",
              "      padding: 0 0 0 0;\n",
              "      width: 32px;\n",
              "    }\n",
              "\n",
              "    .colab-df-convert:hover {\n",
              "      background-color: #E2EBFA;\n",
              "      box-shadow: 0px 1px 2px rgba(60, 64, 67, 0.3), 0px 1px 3px 1px rgba(60, 64, 67, 0.15);\n",
              "      fill: #174EA6;\n",
              "    }\n",
              "\n",
              "    [theme=dark] .colab-df-convert {\n",
              "      background-color: #3B4455;\n",
              "      fill: #D2E3FC;\n",
              "    }\n",
              "\n",
              "    [theme=dark] .colab-df-convert:hover {\n",
              "      background-color: #434B5C;\n",
              "      box-shadow: 0px 1px 3px 1px rgba(0, 0, 0, 0.15);\n",
              "      filter: drop-shadow(0px 1px 2px rgba(0, 0, 0, 0.3));\n",
              "      fill: #FFFFFF;\n",
              "    }\n",
              "  </style>\n",
              "\n",
              "      <script>\n",
              "        const buttonEl =\n",
              "          document.querySelector('#df-a7e7bc5e-6370-46bc-90ce-c5937505e6a7 button.colab-df-convert');\n",
              "        buttonEl.style.display =\n",
              "          google.colab.kernel.accessAllowed ? 'block' : 'none';\n",
              "\n",
              "        async function convertToInteractive(key) {\n",
              "          const element = document.querySelector('#df-a7e7bc5e-6370-46bc-90ce-c5937505e6a7');\n",
              "          const dataTable =\n",
              "            await google.colab.kernel.invokeFunction('convertToInteractive',\n",
              "                                                     [key], {});\n",
              "          if (!dataTable) return;\n",
              "\n",
              "          const docLinkHtml = 'Like what you see? Visit the ' +\n",
              "            '<a target=\"_blank\" href=https://colab.research.google.com/notebooks/data_table.ipynb>data table notebook</a>'\n",
              "            + ' to learn more about interactive tables.';\n",
              "          element.innerHTML = '';\n",
              "          dataTable['output_type'] = 'display_data';\n",
              "          await google.colab.output.renderOutput(dataTable, element);\n",
              "          const docLink = document.createElement('div');\n",
              "          docLink.innerHTML = docLinkHtml;\n",
              "          element.appendChild(docLink);\n",
              "        }\n",
              "      </script>\n",
              "    </div>\n",
              "  </div>\n",
              "  "
            ]
          },
          "metadata": {},
          "execution_count": 14
        }
      ]
    },
    {
      "cell_type": "markdown",
      "source": [
        "# 3 Filtragem dos dados\n"
      ],
      "metadata": {
        "id": "7w9lGDjDJMYu"
      }
    },
    {
      "cell_type": "code",
      "source": [
        "def read_words():\n",
        "  arq = open('path_dic_words.txt').readlines()\n",
        "  text = \" \".join(arq).replace(',',' ').lower().split(' ')\n",
        "  return sorted(set([x for x in text if len(x) > 1]))"
      ],
      "metadata": {
        "id": "6ObeB_AOI2Pp"
      },
      "execution_count": null,
      "outputs": []
    },
    {
      "cell_type": "code",
      "source": [
        "words = read_words()\n",
        "print(words)"
      ],
      "metadata": {
        "colab": {
          "base_uri": "https://localhost:8080/"
        },
        "id": "IqrrhYpHJUAC",
        "outputId": "de28de69-b821-407f-a82c-a7c1738d57d6"
      },
      "execution_count": null,
      "outputs": [
        {
          "output_type": "stream",
          "name": "stdout",
          "text": [
            "['abandon', 'active', 'active_fault', 'administration', 'administrators', 'adversity', 'afraid', 'aftershocks', 'aghast', 'aid', 'airfall', 'aliment', 'alimentchow', 'allowance', 'amplitude', 'andesite', 'annihilated', 'anxious', 'apartment', 'appeal', 'apprehensive', 'ash', 'ashes', 'ashfall', 'assistance', 'asthenosphere', 'asylum', 'bail_out', 'basalt', 'begging', 'bench', 'block', 'bomb', 'broken', 'calamity', 'caldera', 'careful', 'cataclysm', 'catastrophe', 'celsius', 'central_vent', 'central_volcano', 'charity', 'chow', 'cinder', 'cinder\\n', 'cinder_cone', 'clearance', 'clinic', 'comestible', 'concerned', 'concerns', 'condo', 'conduit', 'cone', 'contribution', 'convulsion', 'coulee', 'crater', 'craving', 'crisis', 'crowd', 'dacite', 'danger', 'death', 'deformation', 'demolished', 'destroyed', 'devastated', 'difficulty', 'direction', 'directors', 'disaster', 'disasters', 'disintegrated', 'displace', 'distress', 'distressed', 'disturbed', 'donations', 'dwelling', 'earthquake', 'ejecta', 'emergency', 'emission', 'emptying', 'endowment', 'entreaty', 'epicentre', 'erupt', 'erupting', 'eruption', 'eruptions', 'erupts', 'evacuate', 'evacuation', 'evacuee', 'exigency', 'extremity', 'fahrenheit', 'fallout', 'fault', 'feed', 'fidgety', 'fire', 'fissures', 'flow', 'fog', 'foodstuff', 'forsake', 'fumarole', 'gas', 'heavy', 'help', 'holocene', 'hut', 'imploring', 'insecurity', 'instability', 'institution', 'jittery', 'kilauea', 'killed', 'kipuka', 'lahar', 'larder', 'lava', 'laze', 'leadership', 'leave', 'leilani', 'lodging', 'lost', 'lua', 'luapele', 'macroseism', 'magma', 'magnitude', 'mainshock', 'meal', 'mess', 'microseism', 'migration', 'misadventure', 'mischance', 'misfortune', 'mishap', 'monogenetic', 'mount', 'move_out', 'movement', 'nervous', 'nervy', 'nourishment', 'nutriment', 'organization', 'orison', 'pahalacloud', 'pahoehoe', 'pali', 'path', 'paths', 'pele', 'peril', 'perilousness', 'petition', 'phreatomagmatic', 'pleading', 'plight', 'plug', 'prayers', 'probability', 'problem', 'pull_out', 'pumice', 'pyroclastic', 'quake', 'quaker', 'quit', 'ravaged', 'razed', 'refreshment', 'refuge', 'reliefsubsidy', 'removal', 'remove', 'repose', 'request', 'restless', 'rhyolite', 'risk', 'riskiness', 'road', 'route', 'ruined', 'safe', 'safety', 'sanctuary', 'scared', 'scoria', 'seism', 'seismic', 'seismicity', 'seismism', 'seismograms', 'seismograph', 'seismology', 'service', 'shake', 'shaky', 'shattered', 'shelter', 'shelters', 'shifting', 'shock', 'shook', 'sismo', 'situation', 'slag', 'slip', 'smashed', 'smoke', 'solfatara', 'spooked', 'steaming', 'store', 'subsidy', 'subsistence', 'supervision', 'support', 'surface', 'surge', 'survive', 'sustenance', 'tears', 'tectonic', 'tectonics', 'temblor', 'tephra', 'terremoto', 'tilt', 'tragedy', 'transport', 'trembler', 'tremor', 'trouble', 'tuff', 'uneasy', 'uptight', 'urgent', 'vapor', 'vents', 'vents_steaming', 'volcanic', 'volcano', 'volcanoes', 'volcanowatch', 'vulcan', 'vulcanian', 'vulcdo', 'vuleao', 'wasted', 'withdraw']\n"
          ]
        }
      ]
    },
    {
      "cell_type": "code",
      "source": [
        "df['interest'] = 0\n",
        "df['keywords'] = ''\n",
        "for i in df.index:\n",
        "  result = list(set(df['text'][i]).intersection(words))\n",
        "  if len(result) > 0:\n",
        "    df['interest'][i] = 1\n",
        "    df['keywords'][i] = result"
      ],
      "metadata": {
        "id": "zb_HN_sOJVUK"
      },
      "execution_count": null,
      "outputs": []
    },
    {
      "cell_type": "code",
      "source": [
        "df['interest'].value_counts()"
      ],
      "metadata": {
        "colab": {
          "base_uri": "https://localhost:8080/"
        },
        "id": "Mn2tikfyJVZ2",
        "outputId": "ba125656-7b87-4430-d0a8-d4e3b220027b"
      },
      "execution_count": null,
      "outputs": [
        {
          "output_type": "execute_result",
          "data": {
            "text/plain": [
              "0    3674\n",
              "1    2349\n",
              "Name: interest, dtype: int64"
            ]
          },
          "metadata": {},
          "execution_count": 18
        }
      ]
    },
    {
      "cell_type": "code",
      "source": [
        "cond = df['interest']==1\n",
        "filtered_df = df[cond]\n",
        "del filtered_df['interest'] #excluir coluna\n",
        "filtered_df"
      ],
      "metadata": {
        "colab": {
          "base_uri": "https://localhost:8080/",
          "height": 641
        },
        "id": "w20lk-cUJhLA",
        "outputId": "479b40e4-68ad-4eac-c5dd-fae64a875ca8"
      },
      "execution_count": null,
      "outputs": [
        {
          "output_type": "execute_result",
          "data": {
            "text/plain": [
              "            date        id_str        user_name  \\\n",
              "2     2018-05-06  8.149151e+17  Hazards_Network   \n",
              "6     2018-05-06  1.864570e+07          syvideo   \n",
              "9     2018-05-06  1.714726e+09        itsnotben   \n",
              "10    2018-05-06  2.918153e+09        eq_map_es   \n",
              "14    2018-05-06  8.149151e+17  Hazards_Network   \n",
              "...          ...           ...              ...   \n",
              "5963  2018-04-30  1.553489e+08     Joechris1988   \n",
              "5967  2018-04-30  3.625236e+08      QuakesToday   \n",
              "5990  2018-04-29  3.625236e+08      QuakesToday   \n",
              "5994  2018-04-29  3.625236e+08      QuakesToday   \n",
              "6003  2018-04-29  3.625236e+08      QuakesToday   \n",
              "\n",
              "                                                   text      time   latitude  \\\n",
              "2     [monday, january, earthquake, magnitude, shook...  20:30:04  19.078167   \n",
              "6     [adventures, covering, lava, flow, hilo, hi, l...  18:18:05  19.473500   \n",
              "9     [hawaii, round, hours, airplane, earthquakes, ...  17:38:12  19.431649   \n",
              "10    [【, 】, isla, de, hawaii, hawaii, km, utc, sism...  13:30:49  19.046000   \n",
              "14    [monday, january, earthquake, magnitude, shook...  08:20:04  19.371334   \n",
              "...                                                 ...       ...        ...   \n",
              "5963  [one, time, volcano, set, sky, fire, cooled, s...  03:00:23  19.566667   \n",
              "5967  [magnitude, earthquake, km, pāhala, hi, united...  02:35:04  19.195000   \n",
              "5990  [magnitude, earthquake, km, volcano, hi, unite...  23:45:05  19.381000   \n",
              "5994  [magnitude, earthquake, km, fern, acres, hi, u...  23:25:05  19.381000   \n",
              "6003  [magnitude, earthquake, km, volcano, hi, unite...  23:05:05  19.282000   \n",
              "\n",
              "       longitude                                 keywords  \n",
              "2    -155.187667           [magnitude, earthquake, shook]  \n",
              "6    -154.920000                    [flow, leilani, lava]  \n",
              "9    -155.216870                     [volcano, eruptions]  \n",
              "10   -155.173000                       [terremoto, sismo]  \n",
              "14   -155.033829  [leilani, magnitude, earthquake, shook]  \n",
              "...          ...                                      ...  \n",
              "5963 -155.500000                          [volcano, fire]  \n",
              "5967 -155.416000                  [magnitude, earthquake]  \n",
              "5990 -155.242000         [volcano, magnitude, earthquake]  \n",
              "5994 -155.087000                  [magnitude, earthquake]  \n",
              "6003 -155.200000         [volcano, magnitude, earthquake]  \n",
              "\n",
              "[2349 rows x 8 columns]"
            ],
            "text/html": [
              "\n",
              "  <div id=\"df-38957901-6abb-4380-b484-e3e67aa16c26\">\n",
              "    <div class=\"colab-df-container\">\n",
              "      <div>\n",
              "<style scoped>\n",
              "    .dataframe tbody tr th:only-of-type {\n",
              "        vertical-align: middle;\n",
              "    }\n",
              "\n",
              "    .dataframe tbody tr th {\n",
              "        vertical-align: top;\n",
              "    }\n",
              "\n",
              "    .dataframe thead th {\n",
              "        text-align: right;\n",
              "    }\n",
              "</style>\n",
              "<table border=\"1\" class=\"dataframe\">\n",
              "  <thead>\n",
              "    <tr style=\"text-align: right;\">\n",
              "      <th></th>\n",
              "      <th>date</th>\n",
              "      <th>id_str</th>\n",
              "      <th>user_name</th>\n",
              "      <th>text</th>\n",
              "      <th>time</th>\n",
              "      <th>latitude</th>\n",
              "      <th>longitude</th>\n",
              "      <th>keywords</th>\n",
              "    </tr>\n",
              "  </thead>\n",
              "  <tbody>\n",
              "    <tr>\n",
              "      <th>2</th>\n",
              "      <td>2018-05-06</td>\n",
              "      <td>8.149151e+17</td>\n",
              "      <td>Hazards_Network</td>\n",
              "      <td>[monday, january, earthquake, magnitude, shook...</td>\n",
              "      <td>20:30:04</td>\n",
              "      <td>19.078167</td>\n",
              "      <td>-155.187667</td>\n",
              "      <td>[magnitude, earthquake, shook]</td>\n",
              "    </tr>\n",
              "    <tr>\n",
              "      <th>6</th>\n",
              "      <td>2018-05-06</td>\n",
              "      <td>1.864570e+07</td>\n",
              "      <td>syvideo</td>\n",
              "      <td>[adventures, covering, lava, flow, hilo, hi, l...</td>\n",
              "      <td>18:18:05</td>\n",
              "      <td>19.473500</td>\n",
              "      <td>-154.920000</td>\n",
              "      <td>[flow, leilani, lava]</td>\n",
              "    </tr>\n",
              "    <tr>\n",
              "      <th>9</th>\n",
              "      <td>2018-05-06</td>\n",
              "      <td>1.714726e+09</td>\n",
              "      <td>itsnotben</td>\n",
              "      <td>[hawaii, round, hours, airplane, earthquakes, ...</td>\n",
              "      <td>17:38:12</td>\n",
              "      <td>19.431649</td>\n",
              "      <td>-155.216870</td>\n",
              "      <td>[volcano, eruptions]</td>\n",
              "    </tr>\n",
              "    <tr>\n",
              "      <th>10</th>\n",
              "      <td>2018-05-06</td>\n",
              "      <td>2.918153e+09</td>\n",
              "      <td>eq_map_es</td>\n",
              "      <td>[【, 】, isla, de, hawaii, hawaii, km, utc, sism...</td>\n",
              "      <td>13:30:49</td>\n",
              "      <td>19.046000</td>\n",
              "      <td>-155.173000</td>\n",
              "      <td>[terremoto, sismo]</td>\n",
              "    </tr>\n",
              "    <tr>\n",
              "      <th>14</th>\n",
              "      <td>2018-05-06</td>\n",
              "      <td>8.149151e+17</td>\n",
              "      <td>Hazards_Network</td>\n",
              "      <td>[monday, january, earthquake, magnitude, shook...</td>\n",
              "      <td>08:20:04</td>\n",
              "      <td>19.371334</td>\n",
              "      <td>-155.033829</td>\n",
              "      <td>[leilani, magnitude, earthquake, shook]</td>\n",
              "    </tr>\n",
              "    <tr>\n",
              "      <th>...</th>\n",
              "      <td>...</td>\n",
              "      <td>...</td>\n",
              "      <td>...</td>\n",
              "      <td>...</td>\n",
              "      <td>...</td>\n",
              "      <td>...</td>\n",
              "      <td>...</td>\n",
              "      <td>...</td>\n",
              "    </tr>\n",
              "    <tr>\n",
              "      <th>5963</th>\n",
              "      <td>2018-04-30</td>\n",
              "      <td>1.553489e+08</td>\n",
              "      <td>Joechris1988</td>\n",
              "      <td>[one, time, volcano, set, sky, fire, cooled, s...</td>\n",
              "      <td>03:00:23</td>\n",
              "      <td>19.566667</td>\n",
              "      <td>-155.500000</td>\n",
              "      <td>[volcano, fire]</td>\n",
              "    </tr>\n",
              "    <tr>\n",
              "      <th>5967</th>\n",
              "      <td>2018-04-30</td>\n",
              "      <td>3.625236e+08</td>\n",
              "      <td>QuakesToday</td>\n",
              "      <td>[magnitude, earthquake, km, pāhala, hi, united...</td>\n",
              "      <td>02:35:04</td>\n",
              "      <td>19.195000</td>\n",
              "      <td>-155.416000</td>\n",
              "      <td>[magnitude, earthquake]</td>\n",
              "    </tr>\n",
              "    <tr>\n",
              "      <th>5990</th>\n",
              "      <td>2018-04-29</td>\n",
              "      <td>3.625236e+08</td>\n",
              "      <td>QuakesToday</td>\n",
              "      <td>[magnitude, earthquake, km, volcano, hi, unite...</td>\n",
              "      <td>23:45:05</td>\n",
              "      <td>19.381000</td>\n",
              "      <td>-155.242000</td>\n",
              "      <td>[volcano, magnitude, earthquake]</td>\n",
              "    </tr>\n",
              "    <tr>\n",
              "      <th>5994</th>\n",
              "      <td>2018-04-29</td>\n",
              "      <td>3.625236e+08</td>\n",
              "      <td>QuakesToday</td>\n",
              "      <td>[magnitude, earthquake, km, fern, acres, hi, u...</td>\n",
              "      <td>23:25:05</td>\n",
              "      <td>19.381000</td>\n",
              "      <td>-155.087000</td>\n",
              "      <td>[magnitude, earthquake]</td>\n",
              "    </tr>\n",
              "    <tr>\n",
              "      <th>6003</th>\n",
              "      <td>2018-04-29</td>\n",
              "      <td>3.625236e+08</td>\n",
              "      <td>QuakesToday</td>\n",
              "      <td>[magnitude, earthquake, km, volcano, hi, unite...</td>\n",
              "      <td>23:05:05</td>\n",
              "      <td>19.282000</td>\n",
              "      <td>-155.200000</td>\n",
              "      <td>[volcano, magnitude, earthquake]</td>\n",
              "    </tr>\n",
              "  </tbody>\n",
              "</table>\n",
              "<p>2349 rows × 8 columns</p>\n",
              "</div>\n",
              "      <button class=\"colab-df-convert\" onclick=\"convertToInteractive('df-38957901-6abb-4380-b484-e3e67aa16c26')\"\n",
              "              title=\"Convert this dataframe to an interactive table.\"\n",
              "              style=\"display:none;\">\n",
              "        \n",
              "  <svg xmlns=\"http://www.w3.org/2000/svg\" height=\"24px\"viewBox=\"0 0 24 24\"\n",
              "       width=\"24px\">\n",
              "    <path d=\"M0 0h24v24H0V0z\" fill=\"none\"/>\n",
              "    <path d=\"M18.56 5.44l.94 2.06.94-2.06 2.06-.94-2.06-.94-.94-2.06-.94 2.06-2.06.94zm-11 1L8.5 8.5l.94-2.06 2.06-.94-2.06-.94L8.5 2.5l-.94 2.06-2.06.94zm10 10l.94 2.06.94-2.06 2.06-.94-2.06-.94-.94-2.06-.94 2.06-2.06.94z\"/><path d=\"M17.41 7.96l-1.37-1.37c-.4-.4-.92-.59-1.43-.59-.52 0-1.04.2-1.43.59L10.3 9.45l-7.72 7.72c-.78.78-.78 2.05 0 2.83L4 21.41c.39.39.9.59 1.41.59.51 0 1.02-.2 1.41-.59l7.78-7.78 2.81-2.81c.8-.78.8-2.07 0-2.86zM5.41 20L4 18.59l7.72-7.72 1.47 1.35L5.41 20z\"/>\n",
              "  </svg>\n",
              "      </button>\n",
              "      \n",
              "  <style>\n",
              "    .colab-df-container {\n",
              "      display:flex;\n",
              "      flex-wrap:wrap;\n",
              "      gap: 12px;\n",
              "    }\n",
              "\n",
              "    .colab-df-convert {\n",
              "      background-color: #E8F0FE;\n",
              "      border: none;\n",
              "      border-radius: 50%;\n",
              "      cursor: pointer;\n",
              "      display: none;\n",
              "      fill: #1967D2;\n",
              "      height: 32px;\n",
              "      padding: 0 0 0 0;\n",
              "      width: 32px;\n",
              "    }\n",
              "\n",
              "    .colab-df-convert:hover {\n",
              "      background-color: #E2EBFA;\n",
              "      box-shadow: 0px 1px 2px rgba(60, 64, 67, 0.3), 0px 1px 3px 1px rgba(60, 64, 67, 0.15);\n",
              "      fill: #174EA6;\n",
              "    }\n",
              "\n",
              "    [theme=dark] .colab-df-convert {\n",
              "      background-color: #3B4455;\n",
              "      fill: #D2E3FC;\n",
              "    }\n",
              "\n",
              "    [theme=dark] .colab-df-convert:hover {\n",
              "      background-color: #434B5C;\n",
              "      box-shadow: 0px 1px 3px 1px rgba(0, 0, 0, 0.15);\n",
              "      filter: drop-shadow(0px 1px 2px rgba(0, 0, 0, 0.3));\n",
              "      fill: #FFFFFF;\n",
              "    }\n",
              "  </style>\n",
              "\n",
              "      <script>\n",
              "        const buttonEl =\n",
              "          document.querySelector('#df-38957901-6abb-4380-b484-e3e67aa16c26 button.colab-df-convert');\n",
              "        buttonEl.style.display =\n",
              "          google.colab.kernel.accessAllowed ? 'block' : 'none';\n",
              "\n",
              "        async function convertToInteractive(key) {\n",
              "          const element = document.querySelector('#df-38957901-6abb-4380-b484-e3e67aa16c26');\n",
              "          const dataTable =\n",
              "            await google.colab.kernel.invokeFunction('convertToInteractive',\n",
              "                                                     [key], {});\n",
              "          if (!dataTable) return;\n",
              "\n",
              "          const docLinkHtml = 'Like what you see? Visit the ' +\n",
              "            '<a target=\"_blank\" href=https://colab.research.google.com/notebooks/data_table.ipynb>data table notebook</a>'\n",
              "            + ' to learn more about interactive tables.';\n",
              "          element.innerHTML = '';\n",
              "          dataTable['output_type'] = 'display_data';\n",
              "          await google.colab.output.renderOutput(dataTable, element);\n",
              "          const docLink = document.createElement('div');\n",
              "          docLink.innerHTML = docLinkHtml;\n",
              "          element.appendChild(docLink);\n",
              "        }\n",
              "      </script>\n",
              "    </div>\n",
              "  </div>\n",
              "  "
            ]
          },
          "metadata": {},
          "execution_count": 19
        }
      ]
    },
    {
      "cell_type": "code",
      "source": [
        "filtered_df.to_csv('dataset_processed.csv',index=False) #csv\n",
        "#df.to_json('dataset.json', orient='index') #json"
      ],
      "metadata": {
        "id": "G-oFyJDtJnvI"
      },
      "execution_count": null,
      "outputs": []
    },
    {
      "cell_type": "markdown",
      "source": [
        "# 4 Palavras-chave mais utilizadas"
      ],
      "metadata": {
        "id": "3JUKhX23Jt7K"
      }
    },
    {
      "cell_type": "code",
      "source": [
        "keywords = filtered_df['keywords'].to_list()\n",
        "keywordsAll = [item for sublista in keywords for item in sublista]"
      ],
      "metadata": {
        "id": "N8risL-JJq5c"
      },
      "execution_count": null,
      "outputs": []
    },
    {
      "cell_type": "code",
      "source": [
        "keywordsCount = dict(Counter(keywordsAll)) #frequencia das palavras"
      ],
      "metadata": {
        "id": "wKGRwVcJJ7PN"
      },
      "execution_count": null,
      "outputs": []
    },
    {
      "cell_type": "code",
      "source": [
        "#selecionar as 10 mais utilizadas\n",
        "j = 0\n",
        "keywordsCount2 = dict()\n",
        "for i in sorted(keywordsCount, key = keywordsCount.get, reverse=True):\n",
        "  if j < 10:\n",
        "    keywordsCount2[i] = keywordsCount[i]\n",
        "    j+=1"
      ],
      "metadata": {
        "id": "SHSw1plmJ9Ip"
      },
      "execution_count": null,
      "outputs": []
    },
    {
      "cell_type": "code",
      "source": [
        "keywordsCount2"
      ],
      "metadata": {
        "colab": {
          "base_uri": "https://localhost:8080/"
        },
        "id": "ByljUoQOJ_Ws",
        "outputId": "45de05bc-ec07-460b-9a2e-7097ff4bb5d9"
      },
      "execution_count": null,
      "outputs": [
        {
          "output_type": "execute_result",
          "data": {
            "text/plain": [
              "{'earthquake': 1662,\n",
              " 'magnitude': 1399,\n",
              " 'volcano': 662,\n",
              " 'leilani': 545,\n",
              " 'sismo': 293,\n",
              " 'shook': 269,\n",
              " 'terremoto': 258,\n",
              " 'lava': 70,\n",
              " 'kilauea': 43,\n",
              " 'store': 41}"
            ]
          },
          "metadata": {},
          "execution_count": 24
        }
      ]
    },
    {
      "cell_type": "code",
      "source": [
        "plt.figure(figsize=(12, 8)) \n",
        "plt.bar(list(keywordsCount2.keys()), list(keywordsCount2.values()))\n",
        "plt.title('Palavras-chave mais frequentes nos dados coletados.')\n",
        "plt.savefig('grafico.png')\n",
        "plt.savefig('grafico.svg')\n",
        "plt.show()"
      ],
      "metadata": {
        "colab": {
          "base_uri": "https://localhost:8080/",
          "height": 499
        },
        "id": "8oX-zwacKBny",
        "outputId": "251c77f1-aea6-49a7-8550-2e0df3883ff2"
      },
      "execution_count": null,
      "outputs": [
        {
          "output_type": "display_data",
          "data": {
            "text/plain": [
              "<Figure size 864x576 with 1 Axes>"
            ],
            "image/png": "[encoded data removed]"
          },
          "metadata": {
            "needs_background": "light"
          }
        }
      ]
    }
  ]
}